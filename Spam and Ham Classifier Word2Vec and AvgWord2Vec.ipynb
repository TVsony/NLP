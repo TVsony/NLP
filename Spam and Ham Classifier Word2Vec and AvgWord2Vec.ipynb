{
 "cells": [
  {
   "cell_type": "code",
   "execution_count": 1,
   "id": "a00ab878-846a-43e2-aa5a-f5eb5703eec0",
   "metadata": {},
   "outputs": [
    {
     "name": "stdout",
     "output_type": "stream",
     "text": [
      "Requirement already satisfied: gensim in c:\\users\\bhimr\\documents\\downloads\\lib\\site-packages (4.3.0)\n",
      "Requirement already satisfied: numpy>=1.18.5 in c:\\users\\bhimr\\documents\\downloads\\lib\\site-packages (from gensim) (1.24.4)\n",
      "Requirement already satisfied: scipy>=1.7.0 in c:\\users\\bhimr\\documents\\downloads\\lib\\site-packages (from gensim) (1.10.1)\n",
      "Requirement already satisfied: smart-open>=1.8.1 in c:\\users\\bhimr\\documents\\downloads\\lib\\site-packages (from gensim) (5.2.1)\n",
      "Requirement already satisfied: FuzzyTM>=0.4.0 in c:\\users\\bhimr\\documents\\downloads\\lib\\site-packages (from gensim) (2.0.9)\n",
      "Requirement already satisfied: pandas in c:\\users\\bhimr\\documents\\downloads\\lib\\site-packages (from FuzzyTM>=0.4.0->gensim) (1.5.3)\n",
      "Requirement already satisfied: pyfume in c:\\users\\bhimr\\documents\\downloads\\lib\\site-packages (from FuzzyTM>=0.4.0->gensim) (0.3.4)\n",
      "Requirement already satisfied: python-dateutil>=2.8.1 in c:\\users\\bhimr\\documents\\downloads\\lib\\site-packages (from pandas->FuzzyTM>=0.4.0->gensim) (2.8.2)\n",
      "Requirement already satisfied: pytz>=2020.1 in c:\\users\\bhimr\\documents\\downloads\\lib\\site-packages (from pandas->FuzzyTM>=0.4.0->gensim) (2022.7.1)\n",
      "Requirement already satisfied: simpful==2.12.0 in c:\\users\\bhimr\\documents\\downloads\\lib\\site-packages (from pyfume->FuzzyTM>=0.4.0->gensim) (2.12.0)\n",
      "Requirement already satisfied: fst-pso==1.8.1 in c:\\users\\bhimr\\documents\\downloads\\lib\\site-packages (from pyfume->FuzzyTM>=0.4.0->gensim) (1.8.1)\n",
      "Requirement already satisfied: miniful in c:\\users\\bhimr\\documents\\downloads\\lib\\site-packages (from fst-pso==1.8.1->pyfume->FuzzyTM>=0.4.0->gensim) (0.0.6)\n",
      "Requirement already satisfied: six>=1.5 in c:\\users\\bhimr\\documents\\downloads\\lib\\site-packages (from python-dateutil>=2.8.1->pandas->FuzzyTM>=0.4.0->gensim) (1.16.0)\n"
     ]
    }
   ],
   "source": [
    "!pip install gensim"
   ]
  },
  {
   "cell_type": "code",
   "execution_count": 2,
   "id": "a144c5cf-5673-4c35-9960-df8ed3e821e6",
   "metadata": {},
   "outputs": [
    {
     "name": "stdout",
     "output_type": "stream",
     "text": [
      "Requirement already satisfied: tqdm in c:\\users\\bhimr\\documents\\downloads\\lib\\site-packages (4.65.0)\n",
      "Requirement already satisfied: colorama in c:\\users\\bhimr\\documents\\downloads\\lib\\site-packages (from tqdm) (0.4.6)\n"
     ]
    }
   ],
   "source": [
    "!pip install tqdm"
   ]
  },
  {
   "cell_type": "code",
   "execution_count": 3,
   "id": "c7cec950-cbc5-4d31-8685-2399ac340ac9",
   "metadata": {},
   "outputs": [],
   "source": [
    "import gensim \n",
    "from gensim.models import Word2Vec , KeyedVectors"
   ]
  },
  {
   "cell_type": "code",
   "execution_count": 4,
   "id": "871b4d15-8bb3-4277-8e96-8d7f4718810f",
   "metadata": {},
   "outputs": [],
   "source": [
    "import gensim.downloader as api\n",
    "\n",
    "wv = api.load('word2vec-google-news-300')\n",
    "vec_king = wv['king']"
   ]
  },
  {
   "cell_type": "code",
   "execution_count": 5,
   "id": "1eed089a-8f59-4f1c-947b-6f4d773ce0ad",
   "metadata": {},
   "outputs": [],
   "source": [
    "import pandas as pd \n",
    "\n",
    "messages = pd.read_csv('SMSSpamCollection.txt',sep='\\t',names=['labels','message'])"
   ]
  },
  {
   "cell_type": "code",
   "execution_count": 6,
   "id": "a183ac02-845e-4343-b3d1-6326ceb903d8",
   "metadata": {},
   "outputs": [
    {
     "name": "stderr",
     "output_type": "stream",
     "text": [
      "[nltk_data] Downloading package wordnet to\n",
      "[nltk_data]     C:\\Users\\bhimr\\AppData\\Roaming\\nltk_data...\n",
      "[nltk_data]   Package wordnet is already up-to-date!\n",
      "[nltk_data] Downloading package stopwords to\n",
      "[nltk_data]     C:\\Users\\bhimr\\AppData\\Roaming\\nltk_data...\n",
      "[nltk_data]   Package stopwords is already up-to-date!\n"
     ]
    },
    {
     "data": {
      "text/plain": [
       "True"
      ]
     },
     "execution_count": 6,
     "metadata": {},
     "output_type": "execute_result"
    }
   ],
   "source": [
    "import re\n",
    "import nltk\n",
    "\n",
    "nltk.download('wordnet')\n",
    "nltk.download('stopwords')"
   ]
  },
  {
   "cell_type": "code",
   "execution_count": 7,
   "id": "95167cce-e6b0-4fb1-9f45-6d782e4a89ab",
   "metadata": {},
   "outputs": [],
   "source": [
    "from nltk.corpus import stopwords\n",
    "from nltk.stem import WordNetLemmatizer\n",
    "\n",
    "stopwords = set(stopwords.words('english'))\n",
    "lemmatizer = WordNetLemmatizer()\n",
    "\n",
    "corpus = []\n",
    "for i in range(len(messages)) :\n",
    "    review = re.sub('[^a-zA-Z]',' ',messages['message'][i])\n",
    "    review = review.lower()\n",
    "    review = review.split()\n",
    "    review = [lemmatizer.lemmatize (word) for word in review]\n",
    "    review = ' '.join(review)\n",
    "    corpus.append(review)"
   ]
  },
  {
   "cell_type": "code",
   "execution_count": 8,
   "id": "c4af770e-727b-49ff-9e9c-1311e64221cd",
   "metadata": {},
   "outputs": [],
   "source": [
    "from nltk import sent_tokenize\n",
    "from gensim.utils import simple_preprocess"
   ]
  },
  {
   "cell_type": "code",
   "execution_count": 9,
   "id": "1c929399-0648-41b2-8784-98e4d5513f07",
   "metadata": {},
   "outputs": [],
   "source": [
    "words = []\n",
    "for sent in corpus:\n",
    "    sent_token = sent_tokenize(sent)\n",
    "    for sent in sent_token :\n",
    "        words.append(simple_preprocess(sent))"
   ]
  },
  {
   "cell_type": "code",
   "execution_count": 10,
   "id": "3937acf8-3b55-4471-9652-5e37d98cd69d",
   "metadata": {},
   "outputs": [],
   "source": [
    "## Word2Vec from Scratch\n",
    "model = Word2Vec(words)"
   ]
  },
  {
   "cell_type": "code",
   "execution_count": 11,
   "id": "a287b812-83d3-4459-b0cc-7d4ca015bdba",
   "metadata": {},
   "outputs": [
    {
     "data": {
      "text/plain": [
       "[('not', 0.9986928105354309),\n",
       " ('wa', 0.9986914992332458),\n",
       " ('all', 0.9985821843147278),\n",
       " ('well', 0.9985135793685913),\n",
       " ('oh', 0.9984511733055115),\n",
       " ('morning', 0.9984365105628967),\n",
       " ('got', 0.9984320402145386),\n",
       " ('time', 0.9983425140380859),\n",
       " ('about', 0.9983370304107666),\n",
       " ('there', 0.9982661604881287)]"
      ]
     },
     "execution_count": 11,
     "metadata": {},
     "output_type": "execute_result"
    }
   ],
   "source": [
    "model.wv.similar_by_word('good')"
   ]
  },
  {
   "cell_type": "code",
   "execution_count": 12,
   "id": "305f4da7-fb05-4486-89cb-ab6f210bee5d",
   "metadata": {},
   "outputs": [],
   "source": [
    "def avg_word2vec(doc):\n",
    "    # remove out-of-vocabulary words\n",
    "    #sent = [word for word in doc if word in model.wv.index_to_key]\n",
    "    #print(sent)\n",
    "    \n",
    "    return np.mean([model.wv[word] for word in doc if word in model.wv.index_to_key],axis=0)\n",
    "                #or [np.zeros(len(model.wv.index_to_key))], axis=0)"
   ]
  },
  {
   "cell_type": "code",
   "execution_count": 13,
   "id": "05d43210-9521-4445-9b26-dcd5f87432f0",
   "metadata": {},
   "outputs": [
    {
     "name": "stderr",
     "output_type": "stream",
     "text": [
      "  0%|                                                                                         | 0/5569 [00:00<?, ?it/s]C:\\Users\\bhimr\\Documents\\Downloads\\Lib\\site-packages\\numpy\\core\\fromnumeric.py:3464: RuntimeWarning: Mean of empty slice.\n",
      "  return _methods._mean(a, axis=axis, dtype=dtype,\n",
      "C:\\Users\\bhimr\\Documents\\Downloads\\Lib\\site-packages\\numpy\\core\\_methods.py:192: RuntimeWarning: invalid value encountered in scalar divide\n",
      "  ret = ret.dtype.type(ret / rcount)\n",
      "100%|████████████████████████████████████████████████████████████████████████████| 5569/5569 [00:01<00:00, 5043.03it/s]\n"
     ]
    }
   ],
   "source": [
    "from tqdm import tqdm\n",
    "import numpy as np\n",
    "\n",
    "X=[]\n",
    "for i in tqdm(range(len(words))):\n",
    "    X.append(avg_word2vec(words[i]))"
   ]
  },
  {
   "cell_type": "code",
   "execution_count": 14,
   "id": "adcb64e9-b7bc-4708-a3f0-3024ee5cf958",
   "metadata": {},
   "outputs": [],
   "source": [
    "# Dependent features \n",
    "y = messages[list(map(lambda x:len(x)>0 ,corpus))]\n",
    "y = pd.get_dummies(y['labels'],drop_first=True)\n",
    "y = y.astype('float32')"
   ]
  },
  {
   "cell_type": "code",
   "execution_count": 15,
   "id": "e006bc02-c0b0-4f21-b926-e408f035728d",
   "metadata": {},
   "outputs": [
    {
     "name": "stdout",
     "output_type": "stream",
     "text": [
      "5569\n",
      "(5569, 1)\n"
     ]
    }
   ],
   "source": [
    "print(len(X))\n",
    "print(y.shape)"
   ]
  },
  {
   "cell_type": "code",
   "execution_count": 16,
   "id": "39ee742a-224b-4616-90ca-2f49a23ef024",
   "metadata": {},
   "outputs": [
    {
     "name": "stderr",
     "output_type": "stream",
     "text": [
      "C:\\Users\\bhimr\\AppData\\Local\\Temp\\ipykernel_27748\\63426015.py:3: FutureWarning: The frame.append method is deprecated and will be removed from pandas in a future version. Use pandas.concat instead.\n",
      "  df = df.append(pd.DataFrame(X[i].reshape(1,-1)),ignore_index=True)\n"
     ]
    }
   ],
   "source": [
    "df = pd.DataFrame()\n",
    "for i in range(len(X)) :\n",
    "    df = df.append(pd.DataFrame(X[i].reshape(1,-1)),ignore_index=True)"
   ]
  },
  {
   "cell_type": "code",
   "execution_count": 17,
   "id": "02893bae-db93-44f1-b5d3-85315307fb10",
   "metadata": {},
   "outputs": [
    {
     "data": {
      "text/plain": [
       "(5569, 100)"
      ]
     },
     "execution_count": 17,
     "metadata": {},
     "output_type": "execute_result"
    }
   ],
   "source": [
    "df.shape"
   ]
  },
  {
   "cell_type": "code",
   "execution_count": 18,
   "id": "eb37bc15-5bca-46c7-b05b-e0e47503df4f",
   "metadata": {},
   "outputs": [],
   "source": [
    "df['Output'] = y"
   ]
  },
  {
   "cell_type": "code",
   "execution_count": 19,
   "id": "e68f0dfa-b05a-4452-a50e-554b448daa55",
   "metadata": {},
   "outputs": [
    {
     "data": {
      "text/html": [
       "<div>\n",
       "<style scoped>\n",
       "    .dataframe tbody tr th:only-of-type {\n",
       "        vertical-align: middle;\n",
       "    }\n",
       "\n",
       "    .dataframe tbody tr th {\n",
       "        vertical-align: top;\n",
       "    }\n",
       "\n",
       "    .dataframe thead th {\n",
       "        text-align: right;\n",
       "    }\n",
       "</style>\n",
       "<table border=\"1\" class=\"dataframe\">\n",
       "  <thead>\n",
       "    <tr style=\"text-align: right;\">\n",
       "      <th></th>\n",
       "      <th>0</th>\n",
       "      <th>1</th>\n",
       "      <th>2</th>\n",
       "      <th>3</th>\n",
       "      <th>4</th>\n",
       "      <th>5</th>\n",
       "      <th>6</th>\n",
       "      <th>7</th>\n",
       "      <th>8</th>\n",
       "      <th>9</th>\n",
       "      <th>...</th>\n",
       "      <th>91</th>\n",
       "      <th>92</th>\n",
       "      <th>93</th>\n",
       "      <th>94</th>\n",
       "      <th>95</th>\n",
       "      <th>96</th>\n",
       "      <th>97</th>\n",
       "      <th>98</th>\n",
       "      <th>99</th>\n",
       "      <th>Output</th>\n",
       "    </tr>\n",
       "  </thead>\n",
       "  <tbody>\n",
       "    <tr>\n",
       "      <th>0</th>\n",
       "      <td>-0.186956</td>\n",
       "      <td>0.237578</td>\n",
       "      <td>0.119301</td>\n",
       "      <td>0.075623</td>\n",
       "      <td>0.092825</td>\n",
       "      <td>-0.495398</td>\n",
       "      <td>0.175693</td>\n",
       "      <td>0.468579</td>\n",
       "      <td>-0.246880</td>\n",
       "      <td>-0.133524</td>\n",
       "      <td>...</td>\n",
       "      <td>0.150662</td>\n",
       "      <td>0.062244</td>\n",
       "      <td>0.051196</td>\n",
       "      <td>0.444362</td>\n",
       "      <td>0.190794</td>\n",
       "      <td>0.146617</td>\n",
       "      <td>-0.215745</td>\n",
       "      <td>0.167596</td>\n",
       "      <td>-0.007079</td>\n",
       "      <td>0.0</td>\n",
       "    </tr>\n",
       "    <tr>\n",
       "      <th>1</th>\n",
       "      <td>-0.172702</td>\n",
       "      <td>0.207465</td>\n",
       "      <td>0.101965</td>\n",
       "      <td>0.064516</td>\n",
       "      <td>0.086489</td>\n",
       "      <td>-0.427414</td>\n",
       "      <td>0.140124</td>\n",
       "      <td>0.407996</td>\n",
       "      <td>-0.214143</td>\n",
       "      <td>-0.108493</td>\n",
       "      <td>...</td>\n",
       "      <td>0.121746</td>\n",
       "      <td>0.049924</td>\n",
       "      <td>0.039331</td>\n",
       "      <td>0.374564</td>\n",
       "      <td>0.160607</td>\n",
       "      <td>0.128120</td>\n",
       "      <td>-0.194452</td>\n",
       "      <td>0.149478</td>\n",
       "      <td>-0.013103</td>\n",
       "      <td>0.0</td>\n",
       "    </tr>\n",
       "    <tr>\n",
       "      <th>2</th>\n",
       "      <td>-0.199159</td>\n",
       "      <td>0.252508</td>\n",
       "      <td>0.124136</td>\n",
       "      <td>0.087648</td>\n",
       "      <td>0.072516</td>\n",
       "      <td>-0.536916</td>\n",
       "      <td>0.178278</td>\n",
       "      <td>0.460078</td>\n",
       "      <td>-0.251407</td>\n",
       "      <td>-0.161145</td>\n",
       "      <td>...</td>\n",
       "      <td>0.150043</td>\n",
       "      <td>0.054933</td>\n",
       "      <td>0.028284</td>\n",
       "      <td>0.459354</td>\n",
       "      <td>0.179657</td>\n",
       "      <td>0.097810</td>\n",
       "      <td>-0.247273</td>\n",
       "      <td>0.193170</td>\n",
       "      <td>0.016811</td>\n",
       "      <td>1.0</td>\n",
       "    </tr>\n",
       "    <tr>\n",
       "      <th>3</th>\n",
       "      <td>-0.262171</td>\n",
       "      <td>0.325565</td>\n",
       "      <td>0.158004</td>\n",
       "      <td>0.106384</td>\n",
       "      <td>0.129682</td>\n",
       "      <td>-0.671334</td>\n",
       "      <td>0.231864</td>\n",
       "      <td>0.642427</td>\n",
       "      <td>-0.341884</td>\n",
       "      <td>-0.173064</td>\n",
       "      <td>...</td>\n",
       "      <td>0.199389</td>\n",
       "      <td>0.082792</td>\n",
       "      <td>0.076316</td>\n",
       "      <td>0.594923</td>\n",
       "      <td>0.264266</td>\n",
       "      <td>0.216909</td>\n",
       "      <td>-0.298615</td>\n",
       "      <td>0.229187</td>\n",
       "      <td>-0.019140</td>\n",
       "      <td>0.0</td>\n",
       "    </tr>\n",
       "    <tr>\n",
       "      <th>4</th>\n",
       "      <td>-0.227112</td>\n",
       "      <td>0.268463</td>\n",
       "      <td>0.142726</td>\n",
       "      <td>0.088338</td>\n",
       "      <td>0.117224</td>\n",
       "      <td>-0.566125</td>\n",
       "      <td>0.193989</td>\n",
       "      <td>0.550051</td>\n",
       "      <td>-0.292174</td>\n",
       "      <td>-0.154824</td>\n",
       "      <td>...</td>\n",
       "      <td>0.165320</td>\n",
       "      <td>0.071333</td>\n",
       "      <td>0.066759</td>\n",
       "      <td>0.506085</td>\n",
       "      <td>0.225476</td>\n",
       "      <td>0.176506</td>\n",
       "      <td>-0.262991</td>\n",
       "      <td>0.189834</td>\n",
       "      <td>-0.017289</td>\n",
       "      <td>0.0</td>\n",
       "    </tr>\n",
       "  </tbody>\n",
       "</table>\n",
       "<p>5 rows × 101 columns</p>\n",
       "</div>"
      ],
      "text/plain": [
       "          0         1         2         3         4         5         6  \\\n",
       "0 -0.186956  0.237578  0.119301  0.075623  0.092825 -0.495398  0.175693   \n",
       "1 -0.172702  0.207465  0.101965  0.064516  0.086489 -0.427414  0.140124   \n",
       "2 -0.199159  0.252508  0.124136  0.087648  0.072516 -0.536916  0.178278   \n",
       "3 -0.262171  0.325565  0.158004  0.106384  0.129682 -0.671334  0.231864   \n",
       "4 -0.227112  0.268463  0.142726  0.088338  0.117224 -0.566125  0.193989   \n",
       "\n",
       "          7         8         9  ...        91        92        93        94  \\\n",
       "0  0.468579 -0.246880 -0.133524  ...  0.150662  0.062244  0.051196  0.444362   \n",
       "1  0.407996 -0.214143 -0.108493  ...  0.121746  0.049924  0.039331  0.374564   \n",
       "2  0.460078 -0.251407 -0.161145  ...  0.150043  0.054933  0.028284  0.459354   \n",
       "3  0.642427 -0.341884 -0.173064  ...  0.199389  0.082792  0.076316  0.594923   \n",
       "4  0.550051 -0.292174 -0.154824  ...  0.165320  0.071333  0.066759  0.506085   \n",
       "\n",
       "         95        96        97        98        99  Output  \n",
       "0  0.190794  0.146617 -0.215745  0.167596 -0.007079     0.0  \n",
       "1  0.160607  0.128120 -0.194452  0.149478 -0.013103     0.0  \n",
       "2  0.179657  0.097810 -0.247273  0.193170  0.016811     1.0  \n",
       "3  0.264266  0.216909 -0.298615  0.229187 -0.019140     0.0  \n",
       "4  0.225476  0.176506 -0.262991  0.189834 -0.017289     0.0  \n",
       "\n",
       "[5 rows x 101 columns]"
      ]
     },
     "execution_count": 19,
     "metadata": {},
     "output_type": "execute_result"
    }
   ],
   "source": [
    "df.head()"
   ]
  },
  {
   "cell_type": "code",
   "execution_count": 20,
   "id": "cb489551-8611-4e32-bee0-0c0ed30d4285",
   "metadata": {},
   "outputs": [],
   "source": [
    "df.dropna(inplace=True)"
   ]
  },
  {
   "cell_type": "code",
   "execution_count": 21,
   "id": "26e07688-4eca-494d-bfe7-ef415d5bb76f",
   "metadata": {},
   "outputs": [],
   "source": [
    "X = df.drop(columns=['Output'])"
   ]
  },
  {
   "cell_type": "code",
   "execution_count": 22,
   "id": "dddb270b-7ba9-4057-aabd-14c1744111f0",
   "metadata": {},
   "outputs": [
    {
     "data": {
      "text/plain": [
       "array([0, 0, 0, 0, 0, 0, 0, 0, 0, 0, 0, 0, 0, 0, 0, 0, 0, 0, 0, 0, 0, 0,\n",
       "       0, 0, 0, 0, 0, 0, 0, 0, 0, 0, 0, 0, 0, 0, 0, 0, 0, 0, 0, 0, 0, 0,\n",
       "       0, 0, 0, 0, 0, 0, 0, 0, 0, 0, 0, 0, 0, 0, 0, 0, 0, 0, 0, 0, 0, 0,\n",
       "       0, 0, 0, 0, 0, 0, 0, 0, 0, 0, 0, 0, 0, 0, 0, 0, 0, 0, 0, 0, 0, 0,\n",
       "       0, 0, 0, 0, 0, 0, 0, 0, 0, 0, 0, 0], dtype=int64)"
      ]
     },
     "execution_count": 22,
     "metadata": {},
     "output_type": "execute_result"
    }
   ],
   "source": [
    "X.isnull().sum().values"
   ]
  },
  {
   "cell_type": "code",
   "execution_count": 23,
   "id": "cb8cc431-c80c-4afb-b972-cf0332b305fe",
   "metadata": {},
   "outputs": [],
   "source": [
    "y= df['Output']"
   ]
  },
  {
   "cell_type": "code",
   "execution_count": 24,
   "id": "8d337085-321f-4da5-9b51-56bcd112ddcf",
   "metadata": {},
   "outputs": [],
   "source": [
    "y= df['Output']"
   ]
  },
  {
   "cell_type": "code",
   "execution_count": 25,
   "id": "3e8b9167-5699-43db-b4ec-d0ed4da9267f",
   "metadata": {},
   "outputs": [],
   "source": [
    "from sklearn.model_selection import train_test_split\n",
    "X_train,X_test,y_train,y_test = train_test_split(X,y,test_size=0.2,random_state=42)"
   ]
  },
  {
   "cell_type": "code",
   "execution_count": 26,
   "id": "3b83bb5f-7b90-4dc9-b2d5-da7c7d288ff5",
   "metadata": {},
   "outputs": [
    {
     "data": {
      "text/html": [
       "<div>\n",
       "<style scoped>\n",
       "    .dataframe tbody tr th:only-of-type {\n",
       "        vertical-align: middle;\n",
       "    }\n",
       "\n",
       "    .dataframe tbody tr th {\n",
       "        vertical-align: top;\n",
       "    }\n",
       "\n",
       "    .dataframe thead th {\n",
       "        text-align: right;\n",
       "    }\n",
       "</style>\n",
       "<table border=\"1\" class=\"dataframe\">\n",
       "  <thead>\n",
       "    <tr style=\"text-align: right;\">\n",
       "      <th></th>\n",
       "      <th>0</th>\n",
       "      <th>1</th>\n",
       "      <th>2</th>\n",
       "      <th>3</th>\n",
       "      <th>4</th>\n",
       "      <th>5</th>\n",
       "      <th>6</th>\n",
       "      <th>7</th>\n",
       "      <th>8</th>\n",
       "      <th>9</th>\n",
       "      <th>...</th>\n",
       "      <th>90</th>\n",
       "      <th>91</th>\n",
       "      <th>92</th>\n",
       "      <th>93</th>\n",
       "      <th>94</th>\n",
       "      <th>95</th>\n",
       "      <th>96</th>\n",
       "      <th>97</th>\n",
       "      <th>98</th>\n",
       "      <th>99</th>\n",
       "    </tr>\n",
       "  </thead>\n",
       "  <tbody>\n",
       "    <tr>\n",
       "      <th>3856</th>\n",
       "      <td>-0.250772</td>\n",
       "      <td>0.319639</td>\n",
       "      <td>0.163565</td>\n",
       "      <td>0.107229</td>\n",
       "      <td>0.116987</td>\n",
       "      <td>-0.673390</td>\n",
       "      <td>0.232104</td>\n",
       "      <td>0.626113</td>\n",
       "      <td>-0.332959</td>\n",
       "      <td>-0.194690</td>\n",
       "      <td>...</td>\n",
       "      <td>0.490371</td>\n",
       "      <td>0.201157</td>\n",
       "      <td>0.077057</td>\n",
       "      <td>0.060979</td>\n",
       "      <td>0.592599</td>\n",
       "      <td>0.248994</td>\n",
       "      <td>0.176640</td>\n",
       "      <td>-0.299021</td>\n",
       "      <td>0.229157</td>\n",
       "      <td>-0.003764</td>\n",
       "    </tr>\n",
       "    <tr>\n",
       "      <th>2403</th>\n",
       "      <td>-0.185641</td>\n",
       "      <td>0.208131</td>\n",
       "      <td>0.111325</td>\n",
       "      <td>0.071490</td>\n",
       "      <td>0.083698</td>\n",
       "      <td>-0.447684</td>\n",
       "      <td>0.146979</td>\n",
       "      <td>0.414310</td>\n",
       "      <td>-0.224011</td>\n",
       "      <td>-0.132016</td>\n",
       "      <td>...</td>\n",
       "      <td>0.329254</td>\n",
       "      <td>0.126304</td>\n",
       "      <td>0.044048</td>\n",
       "      <td>0.037659</td>\n",
       "      <td>0.384690</td>\n",
       "      <td>0.168608</td>\n",
       "      <td>0.110972</td>\n",
       "      <td>-0.210361</td>\n",
       "      <td>0.150669</td>\n",
       "      <td>0.002831</td>\n",
       "    </tr>\n",
       "    <tr>\n",
       "      <th>4447</th>\n",
       "      <td>-0.278622</td>\n",
       "      <td>0.324312</td>\n",
       "      <td>0.174627</td>\n",
       "      <td>0.092176</td>\n",
       "      <td>0.147688</td>\n",
       "      <td>-0.662666</td>\n",
       "      <td>0.231152</td>\n",
       "      <td>0.673344</td>\n",
       "      <td>-0.348218</td>\n",
       "      <td>-0.192132</td>\n",
       "      <td>...</td>\n",
       "      <td>0.526232</td>\n",
       "      <td>0.189563</td>\n",
       "      <td>0.080734</td>\n",
       "      <td>0.083433</td>\n",
       "      <td>0.590026</td>\n",
       "      <td>0.282671</td>\n",
       "      <td>0.231449</td>\n",
       "      <td>-0.306287</td>\n",
       "      <td>0.196729</td>\n",
       "      <td>-0.031489</td>\n",
       "    </tr>\n",
       "    <tr>\n",
       "      <th>4786</th>\n",
       "      <td>-0.257627</td>\n",
       "      <td>0.302051</td>\n",
       "      <td>0.157046</td>\n",
       "      <td>0.097929</td>\n",
       "      <td>0.125512</td>\n",
       "      <td>-0.646904</td>\n",
       "      <td>0.218607</td>\n",
       "      <td>0.606509</td>\n",
       "      <td>-0.319965</td>\n",
       "      <td>-0.177175</td>\n",
       "      <td>...</td>\n",
       "      <td>0.473988</td>\n",
       "      <td>0.188158</td>\n",
       "      <td>0.076508</td>\n",
       "      <td>0.059228</td>\n",
       "      <td>0.569666</td>\n",
       "      <td>0.244418</td>\n",
       "      <td>0.172428</td>\n",
       "      <td>-0.294886</td>\n",
       "      <td>0.227651</td>\n",
       "      <td>0.000054</td>\n",
       "    </tr>\n",
       "    <tr>\n",
       "      <th>3712</th>\n",
       "      <td>-0.251309</td>\n",
       "      <td>0.305566</td>\n",
       "      <td>0.153987</td>\n",
       "      <td>0.097054</td>\n",
       "      <td>0.134091</td>\n",
       "      <td>-0.632033</td>\n",
       "      <td>0.214304</td>\n",
       "      <td>0.618526</td>\n",
       "      <td>-0.327119</td>\n",
       "      <td>-0.164577</td>\n",
       "      <td>...</td>\n",
       "      <td>0.486174</td>\n",
       "      <td>0.186671</td>\n",
       "      <td>0.072904</td>\n",
       "      <td>0.068945</td>\n",
       "      <td>0.566700</td>\n",
       "      <td>0.254742</td>\n",
       "      <td>0.202819</td>\n",
       "      <td>-0.285296</td>\n",
       "      <td>0.207301</td>\n",
       "      <td>-0.022761</td>\n",
       "    </tr>\n",
       "  </tbody>\n",
       "</table>\n",
       "<p>5 rows × 100 columns</p>\n",
       "</div>"
      ],
      "text/plain": [
       "            0         1         2         3         4         5         6   \\\n",
       "3856 -0.250772  0.319639  0.163565  0.107229  0.116987 -0.673390  0.232104   \n",
       "2403 -0.185641  0.208131  0.111325  0.071490  0.083698 -0.447684  0.146979   \n",
       "4447 -0.278622  0.324312  0.174627  0.092176  0.147688 -0.662666  0.231152   \n",
       "4786 -0.257627  0.302051  0.157046  0.097929  0.125512 -0.646904  0.218607   \n",
       "3712 -0.251309  0.305566  0.153987  0.097054  0.134091 -0.632033  0.214304   \n",
       "\n",
       "            7         8         9   ...        90        91        92  \\\n",
       "3856  0.626113 -0.332959 -0.194690  ...  0.490371  0.201157  0.077057   \n",
       "2403  0.414310 -0.224011 -0.132016  ...  0.329254  0.126304  0.044048   \n",
       "4447  0.673344 -0.348218 -0.192132  ...  0.526232  0.189563  0.080734   \n",
       "4786  0.606509 -0.319965 -0.177175  ...  0.473988  0.188158  0.076508   \n",
       "3712  0.618526 -0.327119 -0.164577  ...  0.486174  0.186671  0.072904   \n",
       "\n",
       "            93        94        95        96        97        98        99  \n",
       "3856  0.060979  0.592599  0.248994  0.176640 -0.299021  0.229157 -0.003764  \n",
       "2403  0.037659  0.384690  0.168608  0.110972 -0.210361  0.150669  0.002831  \n",
       "4447  0.083433  0.590026  0.282671  0.231449 -0.306287  0.196729 -0.031489  \n",
       "4786  0.059228  0.569666  0.244418  0.172428 -0.294886  0.227651  0.000054  \n",
       "3712  0.068945  0.566700  0.254742  0.202819 -0.285296  0.207301 -0.022761  \n",
       "\n",
       "[5 rows x 100 columns]"
      ]
     },
     "execution_count": 26,
     "metadata": {},
     "output_type": "execute_result"
    }
   ],
   "source": [
    "X_train.head()"
   ]
  },
  {
   "cell_type": "code",
   "execution_count": 27,
   "id": "dee3a229-1ac6-4bc3-aa91-1c2ede673e6b",
   "metadata": {},
   "outputs": [
    {
     "data": {
      "text/plain": [
       "3856    1.0\n",
       "2403    0.0\n",
       "4447    0.0\n",
       "4786    1.0\n",
       "3712    0.0\n",
       "Name: Output, dtype: float32"
      ]
     },
     "execution_count": 27,
     "metadata": {},
     "output_type": "execute_result"
    }
   ],
   "source": [
    "y_train.head()"
   ]
  },
  {
   "cell_type": "markdown",
   "id": "3b9de533-5787-4417-8d90-54c8a3404992",
   "metadata": {},
   "source": [
    "# GradientBoostingClassifier model "
   ]
  },
  {
   "cell_type": "code",
   "execution_count": 28,
   "id": "b174ba54-9b70-4ecd-985f-9356dd59fe05",
   "metadata": {},
   "outputs": [],
   "source": [
    "from sklearn.ensemble import GradientBoostingClassifier\n",
    "\n",
    "max_depths = [3, 5, 7]\n",
    "n_estimators = [3, 5, 7, 11]\n",
    "learning_rates = [0.01, 0.03, 0.05, 0.001]\n",
    "\n",
    "# Loop over max_depth, n_estimators, and learning_rate\n",
    "for depth in max_depths:\n",
    "    for n_est in n_estimators:\n",
    "        for lr in learning_rates:\n",
    "            classifier = GradientBoostingClassifier(max_depth=depth, n_estimators=n_est, learning_rate=lr)\n",
    "            classifier.fit(X_train, y_train)"
   ]
  },
  {
   "cell_type": "code",
   "execution_count": 29,
   "id": "d0027e9a-8db8-4d32-af51-7cc57756a809",
   "metadata": {},
   "outputs": [],
   "source": [
    "y_pred = classifier.predict(X_test)"
   ]
  },
  {
   "cell_type": "code",
   "execution_count": 30,
   "id": "4746cfbf-689c-4c11-b0ba-61eb4dc8bd7d",
   "metadata": {},
   "outputs": [
    {
     "name": "stdout",
     "output_type": "stream",
     "text": [
      "0.8613861386138614\n"
     ]
    }
   ],
   "source": [
    "from sklearn.metrics import accuracy_score,classification_report\n",
    "print(accuracy_score(y_test,y_pred))"
   ]
  },
  {
   "cell_type": "code",
   "execution_count": 31,
   "id": "0a4cdc3f-fcc7-49b6-aeaf-ef785121d88d",
   "metadata": {},
   "outputs": [
    {
     "name": "stdout",
     "output_type": "stream",
     "text": [
      "              precision    recall  f1-score   support\n",
      "\n",
      "         0.0       0.86      1.00      0.93       957\n",
      "         1.0       0.00      0.00      0.00       154\n",
      "\n",
      "    accuracy                           0.86      1111\n",
      "   macro avg       0.43      0.50      0.46      1111\n",
      "weighted avg       0.74      0.86      0.80      1111\n",
      "\n"
     ]
    },
    {
     "name": "stderr",
     "output_type": "stream",
     "text": [
      "C:\\Users\\bhimr\\Documents\\Downloads\\Lib\\site-packages\\sklearn\\metrics\\_classification.py:1344: UndefinedMetricWarning: Precision and F-score are ill-defined and being set to 0.0 in labels with no predicted samples. Use `zero_division` parameter to control this behavior.\n",
      "  _warn_prf(average, modifier, msg_start, len(result))\n",
      "C:\\Users\\bhimr\\Documents\\Downloads\\Lib\\site-packages\\sklearn\\metrics\\_classification.py:1344: UndefinedMetricWarning: Precision and F-score are ill-defined and being set to 0.0 in labels with no predicted samples. Use `zero_division` parameter to control this behavior.\n",
      "  _warn_prf(average, modifier, msg_start, len(result))\n",
      "C:\\Users\\bhimr\\Documents\\Downloads\\Lib\\site-packages\\sklearn\\metrics\\_classification.py:1344: UndefinedMetricWarning: Precision and F-score are ill-defined and being set to 0.0 in labels with no predicted samples. Use `zero_division` parameter to control this behavior.\n",
      "  _warn_prf(average, modifier, msg_start, len(result))\n"
     ]
    }
   ],
   "source": [
    "print(classification_report(y_test,y_pred))"
   ]
  },
  {
   "cell_type": "code",
   "execution_count": 32,
   "id": "b9d99788-1c99-48eb-8155-77cb12e5d062",
   "metadata": {},
   "outputs": [
    {
     "name": "stdout",
     "output_type": "stream",
     "text": [
      "Requirement already satisfied: xgboost in c:\\users\\bhimr\\documents\\downloads\\lib\\site-packages (2.0.3)\n",
      "Requirement already satisfied: numpy in c:\\users\\bhimr\\documents\\downloads\\lib\\site-packages (from xgboost) (1.24.4)\n",
      "Requirement already satisfied: scipy in c:\\users\\bhimr\\documents\\downloads\\lib\\site-packages (from xgboost) (1.10.1)\n"
     ]
    }
   ],
   "source": [
    "!pip install xgboost"
   ]
  },
  {
   "cell_type": "code",
   "execution_count": 33,
   "id": "aa87d3bb-c390-4e2f-af4e-d5e2b50d859e",
   "metadata": {},
   "outputs": [],
   "source": [
    "from sklearn.tree import DecisionTreeClassifier\n",
    "from sklearn.linear_model import LogisticRegression\n",
    "from sklearn.ensemble import RandomForestClassifier\n",
    "from sklearn.ensemble import AdaBoostClassifier\n",
    "from xgboost import XGBClassifier\n",
    "from sklearn.metrics import accuracy_score, precision_score, recall_score, f1_score, roc_auc_score"
   ]
  },
  {
   "cell_type": "code",
   "execution_count": 34,
   "id": "6ca14bea-476b-4118-8f05-cc5b7f6e9d7b",
   "metadata": {},
   "outputs": [
    {
     "name": "stdout",
     "output_type": "stream",
     "text": [
      "Model: Decision Tree\n",
      "Training Set Performance:\n",
      "Accuracy: 0.9792932703128516\n",
      "F1 Score: 0.97868558157277\n",
      "Precision: 0.9845261121856866\n",
      "Recall: 0.8583473861720068\n",
      "ROC AUC Score: 0.9281347320470423\n",
      "==============================================================\n",
      "\n",
      "Testing Set Performance:\n",
      "Accuracy: 0.7848784878487849\n",
      "F1 Score: 0.7827690193689174\n",
      "Precision: 0.2108843537414966\n",
      "Recall: 0.2012987012987013\n",
      "ROC AUC Score: 0.54004329004329\n",
      "==============================================================\n",
      "\n"
     ]
    },
    {
     "name": "stderr",
     "output_type": "stream",
     "text": [
      "C:\\Users\\bhimr\\Documents\\Downloads\\Lib\\site-packages\\sklearn\\metrics\\_classification.py:1344: UndefinedMetricWarning: Precision is ill-defined and being set to 0.0 due to no predicted samples. Use `zero_division` parameter to control this behavior.\n",
      "  _warn_prf(average, modifier, msg_start, len(result))\n"
     ]
    },
    {
     "name": "stdout",
     "output_type": "stream",
     "text": [
      "Model: logistic Classifier\n",
      "Training Set Performance:\n",
      "Accuracy: 0.8663065496286293\n",
      "F1 Score: 0.8044573603642603\n",
      "Precision: 0.0\n",
      "Recall: 0.0\n",
      "ROC AUC Score: 0.49987012987012985\n",
      "==============================================================\n",
      "\n",
      "Testing Set Performance:\n",
      "Accuracy: 0.8613861386138614\n",
      "F1 Score: 0.7972403623341058\n",
      "Precision: 0.0\n",
      "Recall: 0.0\n",
      "ROC AUC Score: 0.5\n",
      "==============================================================\n",
      "\n",
      "Model: Random Forest\n",
      "Training Set Performance:\n",
      "Accuracy: 0.9792932703128516\n",
      "F1 Score: 0.978920713644498\n",
      "Precision: 0.9596330275229358\n",
      "Recall: 0.8819561551433389\n",
      "ROC AUC Score: 0.9381209347145266\n",
      "==============================================================\n",
      "\n",
      "Testing Set Performance:\n",
      "Accuracy: 0.8514851485148515\n",
      "F1 Score: 0.811447270616688\n",
      "Precision: 0.358974358974359\n",
      "Recall: 0.09090909090909091\n",
      "ROC AUC Score: 0.5323928944618599\n",
      "==============================================================\n",
      "\n",
      "Model: Adaboost\n",
      "Training Set Performance:\n",
      "Accuracy: 0.8676569885212694\n",
      "F1 Score: 0.820850906818372\n",
      "Precision: 0.5324675324675324\n",
      "Recall: 0.06913996627318718\n",
      "ROC AUC Score: 0.5298946584612689\n",
      "==============================================================\n",
      "\n",
      "Testing Set Performance:\n",
      "Accuracy: 0.8586858685868587\n",
      "F1 Score: 0.8082041491499247\n",
      "Precision: 0.42105263157894735\n",
      "Recall: 0.05194805194805195\n",
      "ROC AUC Score: 0.5202268995372443\n",
      "==============================================================\n",
      "\n",
      "Model: XGBoost\n",
      "Training Set Performance:\n",
      "Accuracy: 0.9792932703128516\n",
      "F1 Score: 0.9789369869232125\n",
      "Precision: 0.9579524680073126\n",
      "Recall: 0.8836424957841484\n",
      "ROC AUC Score: 0.9388342349050612\n",
      "==============================================================\n",
      "\n",
      "Testing Set Performance:\n",
      "Accuracy: 0.8460846084608461\n",
      "F1 Score: 0.8144179841802469\n",
      "Precision: 0.3508771929824561\n",
      "Recall: 0.12987012987012986\n",
      "ROC AUC Score: 0.5456038214658905\n",
      "==============================================================\n",
      "\n"
     ]
    }
   ],
   "source": [
    "# Define models ( you can add no of option algo in between {    }    \n",
    "models = {\n",
    "    \"Decision Tree\": DecisionTreeClassifier(),\n",
    "    \"logistic Classifier\": LogisticRegression(),\n",
    "    \"Random Forest\": RandomForestClassifier(),\n",
    "    \"Adaboost\":AdaBoostClassifier(),\n",
    "    \"XGBoost\": XGBClassifier()\n",
    "}\n",
    "\n",
    "# Iterate over models\n",
    "for name, model in models.items():\n",
    "    # Fit the model\n",
    "    model.fit(X_train, y_train)\n",
    "\n",
    "    # Make predictions\n",
    "    y_train_pred = model.predict(X_train)\n",
    "    y_test_pred = model.predict(X_test)\n",
    "\n",
    "    # Training set performance\n",
    "    model_train_accuracy = accuracy_score(y_train, y_train_pred)\n",
    "    model_train_f1 = f1_score(y_train, y_train_pred, average='weighted')\n",
    "    model_train_precision = precision_score(y_train, y_train_pred)\n",
    "    model_train_recall = recall_score(y_train, y_train_pred)\n",
    "    model_train_rocauc_score = roc_auc_score(y_train, y_train_pred)\n",
    "\n",
    "    # Testing set performance \n",
    "    model_test_accuracy = accuracy_score(y_test, y_test_pred)\n",
    "    model_test_f1 = f1_score(y_test, y_test_pred, average='weighted')\n",
    "    model_test_precision = precision_score(y_test, y_test_pred)\n",
    "    model_test_recall = recall_score(y_test, y_test_pred)\n",
    "    model_test_rocauc_score = roc_auc_score(y_test, y_test_pred)\n",
    "\n",
    "    # Print model name\n",
    "    print(f\"Model: {name}\")\n",
    "\n",
    "    # Print evaluation metrics for training set\n",
    "    print(\"Training Set Performance:\")\n",
    "    print(\"Accuracy:\", model_train_accuracy)\n",
    "    print(\"F1 Score:\", model_train_f1)\n",
    "    print(\"Precision:\", model_train_precision)\n",
    "    print(\"Recall:\", model_train_recall)\n",
    "    print(\"ROC AUC Score:\", model_train_rocauc_score)\n",
    "    print(\"==============================================================\")\n",
    "\n",
    "    # Print evaluation metrics for testing set\n",
    "    print(\"\\nTesting Set Performance:\")\n",
    "    print(\"Accuracy:\", model_test_accuracy)\n",
    "    print(\"F1 Score:\", model_test_f1)\n",
    "    print(\"Precision:\", model_test_precision)\n",
    "    print(\"Recall:\", model_test_recall)\n",
    "    print(\"ROC AUC Score:\", model_test_rocauc_score)\n",
    "    print(\"==============================================================\\n\")"
   ]
  },
  {
   "cell_type": "markdown",
   "id": "28fc1dc6-1ac9-4891-ac12-26eaca352d57",
   "metadata": {},
   "source": [
    "# Hyperparameter Tunning"
   ]
  },
  {
   "cell_type": "code",
   "execution_count": 35,
   "id": "e4a58244-1b0e-42f4-bcbf-97730ffeee52",
   "metadata": {},
   "outputs": [],
   "source": [
    "rf_params = { \"max_depth\":[5, 7,15,10, None],\n",
    "             \"max_features\":[5,7,\"auto\",8],\n",
    "             \"min_samples_split\":[2,8,15,20],\n",
    "             \"n_estimators\":[100,200,500,1000]}\n",
    "\n",
    "\n",
    "Xgb_params = {\n",
    "    \"learning_rate\":[0.1,0.01],\n",
    "    \"max_depth\":[5,8,12,20,30],\n",
    "    \"n_stimators\":[100,200,300],\n",
    "    \"colsample_bytree\":[0.3,0.4,0.5,0.8,1]\n",
    "}"
   ]
  },
  {
   "cell_type": "code",
   "execution_count": 36,
   "id": "d323e464-f659-458e-a9ea-1a2c2c599942",
   "metadata": {},
   "outputs": [
    {
     "data": {
      "text/plain": [
       "{'max_depth': [5, 7, 15, 10, None],\n",
       " 'max_features': [5, 7, 'auto', 8],\n",
       " 'min_samples_split': [2, 8, 15, 20],\n",
       " 'n_estimators': [100, 200, 500, 1000]}"
      ]
     },
     "execution_count": 36,
     "metadata": {},
     "output_type": "execute_result"
    }
   ],
   "source": [
    "rf_params"
   ]
  },
  {
   "cell_type": "code",
   "execution_count": 37,
   "id": "c50f1f7c-5371-447e-b5f2-0e41feaebbaa",
   "metadata": {},
   "outputs": [
    {
     "data": {
      "text/plain": [
       "{'learning_rate': [0.1, 0.01],\n",
       " 'max_depth': [5, 8, 12, 20, 30],\n",
       " 'n_stimators': [100, 200, 300],\n",
       " 'colsample_bytree': [0.3, 0.4, 0.5, 0.8, 1]}"
      ]
     },
     "execution_count": 37,
     "metadata": {},
     "output_type": "execute_result"
    }
   ],
   "source": [
    "Xgb_params"
   ]
  },
  {
   "cell_type": "code",
   "execution_count": 38,
   "id": "33545cd4-8b8c-4eed-a837-735459d30f47",
   "metadata": {},
   "outputs": [],
   "source": [
    "randomcv_models = [\n",
    "                (\"RF\",RandomForestClassifier(), rf_params),\n",
    "    (\"Xgb Boost\",XGBClassifier(), Xgb_params)\n",
    "    \n",
    "]"
   ]
  },
  {
   "cell_type": "code",
   "execution_count": 39,
   "id": "6a79495f-a172-4ff8-9e84-75a2ac69b974",
   "metadata": {},
   "outputs": [
    {
     "data": {
      "text/plain": [
       "[('RF',\n",
       "  RandomForestClassifier(),\n",
       "  {'max_depth': [5, 7, 15, 10, None],\n",
       "   'max_features': [5, 7, 'auto', 8],\n",
       "   'min_samples_split': [2, 8, 15, 20],\n",
       "   'n_estimators': [100, 200, 500, 1000]}),\n",
       " ('Xgb Boost',\n",
       "  XGBClassifier(base_score=None, booster=None, callbacks=None,\n",
       "                colsample_bylevel=None, colsample_bynode=None,\n",
       "                colsample_bytree=None, device=None, early_stopping_rounds=None,\n",
       "                enable_categorical=False, eval_metric=None, feature_types=None,\n",
       "                gamma=None, grow_policy=None, importance_type=None,\n",
       "                interaction_constraints=None, learning_rate=None, max_bin=None,\n",
       "                max_cat_threshold=None, max_cat_to_onehot=None,\n",
       "                max_delta_step=None, max_depth=None, max_leaves=None,\n",
       "                min_child_weight=None, missing=nan, monotone_constraints=None,\n",
       "                multi_strategy=None, n_estimators=None, n_jobs=None,\n",
       "                num_parallel_tree=None, random_state=None, ...),\n",
       "  {'learning_rate': [0.1, 0.01],\n",
       "   'max_depth': [5, 8, 12, 20, 30],\n",
       "   'n_stimators': [100, 200, 300],\n",
       "   'colsample_bytree': [0.3, 0.4, 0.5, 0.8, 1]})]"
      ]
     },
     "execution_count": 39,
     "metadata": {},
     "output_type": "execute_result"
    }
   ],
   "source": [
    "randomcv_models"
   ]
  },
  {
   "cell_type": "code",
   "execution_count": 40,
   "id": "89194f75-8b56-4dc4-92ad-67b2d1aea400",
   "metadata": {},
   "outputs": [
    {
     "name": "stdout",
     "output_type": "stream",
     "text": [
      "Fitting 3 folds for each of 100 candidates, totalling 300 fits\n",
      "Fitting 3 folds for each of 100 candidates, totalling 300 fits\n"
     ]
    },
    {
     "name": "stderr",
     "output_type": "stream",
     "text": [
      "C:\\Users\\bhimr\\Documents\\Downloads\\Lib\\site-packages\\xgboost\\core.py:160: UserWarning: [22:17:48] WARNING: C:\\buildkite-agent\\builds\\buildkite-windows-cpu-autoscaling-group-i-0b3782d1791676daf-1\\xgboost\\xgboost-ci-windows\\src\\learner.cc:742: \n",
      "Parameters: { \"n_stimators\" } are not used.\n",
      "\n",
      "  warnings.warn(smsg, UserWarning)\n"
     ]
    },
    {
     "name": "stdout",
     "output_type": "stream",
     "text": [
      "--------------------Best Param for RF---------------------------\n",
      "{'n_estimators': 500, 'min_samples_split': 20, 'max_features': 5, 'max_depth': 5}\n",
      "--------------------Best Param for Xgb Boost---------------------------\n",
      "{'n_stimators': 100, 'max_depth': 8, 'learning_rate': 0.01, 'colsample_bytree': 0.5}\n"
     ]
    }
   ],
   "source": [
    "from sklearn.model_selection import RandomizedSearchCV\n",
    "model_param = {}\n",
    "for name, model, params in randomcv_models:\n",
    "    random =RandomizedSearchCV(estimator=model,\n",
    "                               param_distributions=params,\n",
    "                               n_iter=100,\n",
    "                               cv=3,\n",
    "                               verbose=2,\n",
    "                               n_jobs=-1)\n",
    "\n",
    "    random.fit(X_train, y_train)\n",
    "    model_param[name] = random.best_params_\n",
    "\n",
    "for model_name in model_param:\n",
    "    print(f\"--------------------Best Param for {model_name}---------------------------\")\n",
    "    print(model_param[model_name]) "
   ]
  },
  {
   "cell_type": "code",
   "execution_count": 41,
   "id": "f755f0ef-102b-4d36-932d-a97ad0edcf1c",
   "metadata": {},
   "outputs": [
    {
     "name": "stdout",
     "output_type": "stream",
     "text": [
      "Model: Random Forest\n",
      "Training Set Performance:\n",
      "Accuracy: 0.9792932703128516\n",
      "F1 Score: 0.9788879626578426\n",
      "Precision: 0.9630314232902033\n",
      "Recall: 0.8785834738617201\n",
      "ROC AUC Score: 0.9366943343334574\n",
      "==============================================================\n",
      "\n",
      "Testing Set Performance:\n",
      "Accuracy: 0.8505850585058505\n",
      "F1 Score: 0.8097182932578971\n",
      "Precision: 0.34210526315789475\n",
      "Recall: 0.08441558441558442\n",
      "ROC AUC Score: 0.5291461412151067\n",
      "==============================================================\n",
      "\n"
     ]
    },
    {
     "name": "stderr",
     "output_type": "stream",
     "text": [
      "C:\\Users\\bhimr\\Documents\\Downloads\\Lib\\site-packages\\xgboost\\core.py:160: UserWarning: [22:18:12] WARNING: C:\\buildkite-agent\\builds\\buildkite-windows-cpu-autoscaling-group-i-0b3782d1791676daf-1\\xgboost\\xgboost-ci-windows\\src\\learner.cc:742: \n",
      "Parameters: { \"n_stimators\" } are not used.\n",
      "\n",
      "  warnings.warn(smsg, UserWarning)\n"
     ]
    },
    {
     "name": "stdout",
     "output_type": "stream",
     "text": [
      "Model: Xgb Boost \n",
      "Training Set Performance:\n",
      "Accuracy: 0.9792932703128516\n",
      "F1 Score: 0.9787541805857357\n",
      "Precision: 0.9771428571428571\n",
      "Recall: 0.8650927487352446\n",
      "ROC AUC Score: 0.9309879328091808\n",
      "==============================================================\n",
      "\n",
      "Testing Set Performance:\n",
      "Accuracy: 0.8505850585058505\n",
      "F1 Score: 0.8131410967183675\n",
      "Precision: 0.36363636363636365\n",
      "Recall: 0.1038961038961039\n",
      "ROC AUC Score: 0.5373190028362442\n",
      "==============================================================\n",
      "\n"
     ]
    }
   ],
   "source": [
    "# Define models\n",
    "models = {\n",
    "    \n",
    "    \"Random Forest\": RandomForestClassifier(n_estimators=200,min_samples_split=2,max_features=8,\n",
    "                                           max_depth= None),\n",
    "    \"Xgb Boost \": XGBClassifier(n_stimators= 200, max_depth= 30, learning_rate= 0.1, colsample_bytree= 1)\n",
    "}\n",
    "\n",
    "# Iterate over models\n",
    "for name, model in models.items():\n",
    "    # Fit the model\n",
    "    model.fit(X_train, y_train)\n",
    "\n",
    "    # Make predictions\n",
    "    y_train_pred = model.predict(X_train)\n",
    "    y_test_pred = model.predict(X_test)\n",
    "\n",
    "    # Training set performance\n",
    "    model_train_accuracy = accuracy_score(y_train, y_train_pred)\n",
    "    model_train_f1 = f1_score(y_train, y_train_pred, average='weighted')\n",
    "    model_train_precision = precision_score(y_train, y_train_pred)\n",
    "    model_train_recall = recall_score(y_train, y_train_pred)\n",
    "    model_train_rocauc_score = roc_auc_score(y_train, y_train_pred)\n",
    "\n",
    "    # Testing set performance \n",
    "    model_test_accuracy = accuracy_score(y_test, y_test_pred)\n",
    "    model_test_f1 = f1_score(y_test, y_test_pred, average='weighted')\n",
    "    model_test_precision = precision_score(y_test, y_test_pred)\n",
    "    model_test_recall = recall_score(y_test, y_test_pred)\n",
    "    model_test_rocauc_score = roc_auc_score(y_test, y_test_pred)\n",
    "\n",
    "    # Print model name\n",
    "    print(f\"Model: {name}\")\n",
    "\n",
    "    # Print evaluation metrics for training set\n",
    "    print(\"Training Set Performance:\")\n",
    "    print(\"Accuracy:\", model_train_accuracy)\n",
    "    print(\"F1 Score:\", model_train_f1)\n",
    "    print(\"Precision:\", model_train_precision)\n",
    "    print(\"Recall:\", model_train_recall)\n",
    "    print(\"ROC AUC Score:\", model_train_rocauc_score)\n",
    "    print(\"==============================================================\")\n",
    "\n",
    "    # Print evaluation metrics for testing set\n",
    "    print(\"\\nTesting Set Performance:\")\n",
    "    print(\"Accuracy:\", model_test_accuracy)\n",
    "    print(\"F1 Score:\", model_test_f1)\n",
    "    print(\"Precision:\", model_test_precision)\n",
    "    print(\"Recall:\", model_test_recall)\n",
    "    print(\"ROC AUC Score:\", model_test_rocauc_score)\n",
    "    print(\"==============================================================\\n\")"
   ]
  },
  {
   "cell_type": "code",
   "execution_count": null,
   "id": "86bc4bdd-e686-4ec3-b579-6d81b7b69790",
   "metadata": {},
   "outputs": [],
   "source": []
  }
 ],
 "metadata": {
  "kernelspec": {
   "display_name": "Python 3 (ipykernel)",
   "language": "python",
   "name": "python3"
  },
  "language_info": {
   "codemirror_mode": {
    "name": "ipython",
    "version": 3
   },
   "file_extension": ".py",
   "mimetype": "text/x-python",
   "name": "python",
   "nbconvert_exporter": "python",
   "pygments_lexer": "ipython3",
   "version": "3.11.7"
  }
 },
 "nbformat": 4,
 "nbformat_minor": 5
}
